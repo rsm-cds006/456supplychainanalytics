{
 "cells": [
  {
   "cell_type": "code",
   "execution_count": 21,
   "metadata": {},
   "outputs": [
    {
     "name": "stdout",
     "output_type": "stream",
     "text": [
      "Data from Q1:\n",
      "   year  month  day  demand\n",
      "0  1990      2   11    8549\n",
      "1  1990      2   12    5583\n",
      "2  1990      2   13    5748\n",
      "3  1990      2   14    5244\n",
      "4  1991      2   11    4069\n",
      "\n",
      "Data from Q2:\n",
      "   daily demand\n",
      "0            47\n",
      "1            74\n",
      "2            80\n",
      "3            27\n",
      "4            57\n",
      "\n",
      "Data from Q5:\n",
      "   day  demand1  demand2\n",
      "0    1      234      172\n",
      "1    2      208      183\n",
      "2    3      247      245\n",
      "3    4      271      235\n",
      "4    5      233      232\n"
     ]
    }
   ],
   "source": [
    "import pandas as pd\n",
    "import numpy as np\n",
    "from scipy.stats import norm\n",
    "import math\n",
    "\n",
    "# Path to the Excel file\n",
    "file_path = '/home/jovyan/456/456supplychainanalytics/Final/final exam data 2024.xlsx'\n",
    "\n",
    "# Read the entire Excel file\n",
    "all_sheets = pd.read_excel(file_path, sheet_name=None)\n",
    "\n",
    "# Read the sheet named 'Q1'\n",
    "data_Q1 = pd.read_excel(file_path, sheet_name='Q1')\n",
    "print(\"Data from Q1:\")\n",
    "print(data_Q1.head())  # Display the first few rows from Q1\n",
    "\n",
    "# Read the sheet named 'Q2'\n",
    "data_Q2 = pd.read_excel(file_path, sheet_name='Q2')\n",
    "print(\"\\nData from Q2:\")\n",
    "print(data_Q2.head())  # Display the first few rows from Q2\n",
    "\n",
    "# Read the sheet named 'Q5'\n",
    "data_Q5 = pd.read_excel(file_path, sheet_name='Q5')\n",
    "print(\"\\nData from Q5:\")\n",
    "print(data_Q5.head())  # Display the first few rows from Q5"
   ]
  },
  {
   "cell_type": "code",
   "execution_count": 39,
   "metadata": {},
   "outputs": [
    {
     "name": "stdout",
     "output_type": "stream",
     "text": [
      "Average Demands: {'avg_demand_11': 4607.941176470588, 'avg_demand_12': 4914.882352941177, 'avg_demand_13': 4509.264705882353, 'avg_demand_14': 4099.85294117647}\n",
      "Standard Deviations: {'std_demand_11': 2265.064911953589, 'std_demand_12': 1783.1238082564357, 'std_demand_13': 2048.5835897147185, 'std_demand_14': 1809.992039832235}\n",
      "Order Quantities: {'order_11': 8333.972956634243, 'order_12': 7848.1210175230135, 'order_13': 7879.184710963065, 'order_14': 7077.289846700496}\n"
     ]
    }
   ],
   "source": [
    "#question 1a\n",
    "# Load the data into a DataFrame\n",
    "data = {\n",
    "    \"year\": list(range(1990, 2024)),\n",
    "    \"demand_11\": [8549, 4069, 4881, 6139, 784, 7506, 3740, 1930, 5895, 5092, 4396, 4748, 5671, 553, 2087, 8725, 4296, 5374, 5598, 3396, 8597, 3702, 4155, 8682, 20, 4187, 1717, 2711, 7740, 5190, 4706, 4148, 3127, 4559],\n",
    "    \"demand_12\": [5583, 9497, 2447, 2728, 3676, 7029, 8738, 6611, 4990, 3784, 8140, 4654, 4170, 5124, 5056, 3137, 5177, 5877, 5648, 4558, 1300, 2523, 5347, 4711, 2205, 6147, 4839, 6221, 2673, 5025, 4989, 5231, 4312, 4959],\n",
    "    \"demand_13\": [5748, 3139, 4256, 5365, 5058, 8079, 6004, 1133, 5815, 8835, 3971, 1994, 3402, 3502, 3908, 6250, 3081, 10, 6673, 3669, 1916, 2572, 4756, 6996, 8355, 2330, 3928, 5019, 1563, 4800, 6653, 5348, 5107, 4080],\n",
    "    \"demand_14\": [5244, 1692, 1885, 3662, 2857, 6789, 2838, 3362, 5591, 3908, 834, 5610, 2796, 5197, 4635, 3377, 5696, 5381, 5475, 5995, 2140, 1218, 4218, 2574, 4443, 6491, 6539, 6078, 453, 3011, 3529, 4786, 7785, 3306]\n",
    "}\n",
    "df = pd.DataFrame(data)\n",
    "\n",
    "# Calculate average demand for each day\n",
    "avg_demand = {\n",
    "    \"avg_demand_11\": np.mean(df['demand_11']),\n",
    "    \"avg_demand_12\": np.mean(df['demand_12']),\n",
    "    \"avg_demand_13\": np.mean(df['demand_13']),\n",
    "    \"avg_demand_14\": np.mean(df['demand_14'])\n",
    "}\n",
    "\n",
    "# Calculate standard deviation for a simple measure of variability\n",
    "std_demand = {\n",
    "    \"std_demand_11\": np.std(df['demand_11']),\n",
    "    \"std_demand_12\": np.std(df['demand_12']),\n",
    "    \"std_demand_13\": np.std(df['demand_13']),\n",
    "    \"std_demand_14\": np.std(df['demand_14'])\n",
    "}\n",
    "\n",
    "# Target service level (e.g., 95% confidence to meet demand)\n",
    "z_score = 1.645  # for 95% service level\n",
    "\n",
    "# Calculate order quantities for each day\n",
    "order_qty = {\n",
    "    \"order_11\": avg_demand[\"avg_demand_11\"] + z_score * std_demand[\"std_demand_11\"],\n",
    "    \"order_12\": avg_demand[\"avg_demand_12\"] + z_score * std_demand[\"std_demand_12\"],\n",
    "    \"order_13\": avg_demand[\"avg_demand_13\"] + z_score * std_demand[\"std_demand_13\"],\n",
    "    \"order_14\": avg_demand[\"avg_demand_14\"] + z_score * std_demand[\"std_demand_14\"]\n",
    "}\n",
    "\n",
    "# Output the calculated average demands, standard deviations, and order quantities\n",
    "print(\"Average Demands:\", avg_demand)\n",
    "print(\"Standard Deviations:\", std_demand)\n",
    "print(\"Order Quantities:\", order_qty)"
   ]
  },
  {
   "cell_type": "code",
   "execution_count": 40,
   "metadata": {},
   "outputs": [
    {
     "name": "stdout",
     "output_type": "stream",
     "text": [
      "Total Order: 31138.568531820816 roses\n",
      "Total Cost: $15569.28\n",
      "Expected Revenue: $164367.41\n",
      "Cost from Leftovers: $561.60\n",
      "Expected Profit: $148236.53\n"
     ]
    }
   ],
   "source": [
    "#question 1a\n",
    "# # Given values\n",
    "cost_per_rose = 0.50\n",
    "selling_price_per_rose = 6.00\n",
    "delivery_fee_per_rose = 0.15\n",
    "leftover_roses = 3744  # from last year\n",
    "\n",
    "# Total orders and costs\n",
    "total_order = sum(order_qty.values())\n",
    "total_cost = total_order * cost_per_rose\n",
    "\n",
    "# Assuming the same sales pattern as last year\n",
    "expected_sales = total_order - leftover_roses\n",
    "expected_revenue = expected_sales * selling_price_per_rose\n",
    "loss_on_leftovers = leftover_roses * delivery_fee_per_rose\n",
    "\n",
    "# Profit calculation\n",
    "profit = expected_revenue - total_cost - loss_on_leftovers\n",
    "\n",
    "# Output economic analysis\n",
    "print(f\"Total Order: {total_order} roses\")\n",
    "print(f\"Total Cost: ${total_cost:.2f}\")\n",
    "print(f\"Expected Revenue: ${expected_revenue:.2f}\")\n",
    "print(f\"Cost from Leftovers: ${loss_on_leftovers:.2f}\")\n",
    "print(f\"Expected Profit: ${profit:.2f}\")"
   ]
  },
  {
   "cell_type": "code",
   "execution_count": 24,
   "metadata": {},
   "outputs": [
    {
     "name": "stdout",
     "output_type": "stream",
     "text": [
      "Optimal Order Quantities for Feb 11 to 14:\n",
      "{'11': 8129.595478177549, '12': 7687.2278919975415, '13': 7694.338090419222, '14': 6913.97465848436}\n"
     ]
    }
   ],
   "source": [
    "#question 1a\n",
    "\n",
    "# Given average demands and standard deviations\n",
    "avg_demand = {\n",
    "    \"11\": 4607.94,\n",
    "    \"12\": 4914.88,\n",
    "    \"13\": 4509.26,\n",
    "    \"14\": 4099.85\n",
    "}\n",
    "std_demand = {\n",
    "    \"11\": 2265.06,\n",
    "    \"12\": 1783.12,\n",
    "    \"13\": 2048.58,\n",
    "    \"14\": 1809.99\n",
    "}\n",
    "\n",
    "# Service level\n",
    "SL = 0.94\n",
    "\n",
    "# Calculate optimal order quantities using the inverse CDF (Quantile function)\n",
    "optimal_order_quantities = {day: norm.ppf(SL, loc=avg_demand[day], scale=std_demand[day]) for day in avg_demand}\n",
    "\n",
    "print(\"Optimal Order Quantities for Feb 11 to 14:\")\n",
    "print(optimal_order_quantities)"
   ]
  },
  {
   "cell_type": "code",
   "execution_count": 25,
   "metadata": {},
   "outputs": [
    {
     "name": "stdout",
     "output_type": "stream",
     "text": [
      "The Economic Order Quantity (EOQ) is: 3587.09 boxes.\n"
     ]
    }
   ],
   "source": [
    "#question 2a\n",
    "\n",
    "# Load the Excel sheet. Change 'Sheet1' to the actual sheet name where the demand data is stored\n",
    "demand_data = pd.read_excel(file_path, sheet_name='Q2')\n",
    "\n",
    "# Assuming the demand data is in a column named 'Daily Demand'\n",
    "# Replace 'Daily Demand' with the actual column name containing the demand data\n",
    "daily_demand = demand_data['daily demand'].values\n",
    "\n",
    "# Calculate the average daily demand\n",
    "average_daily_demand = np.mean(daily_demand)\n",
    "\n",
    "# Calculate annual demand\n",
    "annual_demand = average_daily_demand * 365\n",
    "\n",
    "# Ordering cost per order\n",
    "ordering_cost = 800\n",
    "\n",
    "# Cost per unit\n",
    "cost_per_unit = 10\n",
    "\n",
    "# Holding cost per unit per year\n",
    "holding_cost = 0.25 * cost_per_unit\n",
    "\n",
    "# Calculate EOQ using the formula\n",
    "EOQ = np.sqrt((2 * annual_demand * ordering_cost) / holding_cost)\n",
    "\n",
    "print(f\"The Economic Order Quantity (EOQ) is: {EOQ:.2f} boxes.\")"
   ]
  },
  {
   "cell_type": "code",
   "execution_count": 41,
   "metadata": {},
   "outputs": [
    {
     "name": "stdout",
     "output_type": "stream",
     "text": [
      "Safety Stock: 54.77 boxes\n",
      "Cycle Service Level: 100.00%\n"
     ]
    }
   ],
   "source": [
    "#question 2b\n",
    "# Given data\n",
    "EOQ = 3587.09  # Economic Order Quantity\n",
    "annual_demand = EOQ * 11  # Annual inventory turnover is 11 times\n",
    "average_daily_demand = annual_demand / 365\n",
    "\n",
    "# Assumed data for demonstration\n",
    "lead_time = 5  # days\n",
    "demand_std_dev = np.std(daily_demand)  # This would be calculated from actual daily demand data\n",
    "service_level = 0.95  # Typically 95% is a common service level for retail\n",
    "\n",
    "# Z-score for the desired service level\n",
    "Z_score = norm.ppf(service_level)\n",
    "\n",
    "# Safety Stock Calculation\n",
    "safety_stock = Z_score * demand_std_dev * np.sqrt(lead_time)\n",
    "print(f\"Safety Stock: {safety_stock:.2f} boxes\")\n",
    "\n",
    "# Cycle Service Level Calculation\n",
    "# This would typically involve integrating the normal distribution, but here we can use the Z-score directly\n",
    "cycle_service_level = norm.cdf((EOQ + safety_stock) / (demand_std_dev * np.sqrt(lead_time)))\n",
    "print(f\"Cycle Service Level: {cycle_service_level:.2%}\")"
   ]
  },
  {
   "cell_type": "code",
   "execution_count": 27,
   "metadata": {},
   "outputs": [
    {
     "name": "stdout",
     "output_type": "stream",
     "text": [
      "Average Order Quantity: 2247.42 boxes\n",
      "Safety Stock: 85.34 boxes\n"
     ]
    }
   ],
   "source": [
    "#question 2c\n",
    "# Given values\n",
    "review_period = 15  # days\n",
    "lead_time = 5  # days\n",
    "service_level = 0.90\n",
    "EOQ = 3587.09  # previously calculated Economic Order Quantity\n",
    "\n",
    "# Calculate annual demand based on EOQ and inventory turnover rate\n",
    "annual_demand = EOQ * 11\n",
    "\n",
    "# Calculate average daily demand\n",
    "average_daily_demand = annual_demand / 365\n",
    "\n",
    "# Calculate demand during review period plus lead time\n",
    "total_period_days = review_period + lead_time\n",
    "demand_during_period = average_daily_demand * total_period_days\n",
    "\n",
    "# Calculate Z-score for 90% service level\n",
    "Z_score = norm.ppf(service_level)\n",
    "\n",
    "# Assuming standard deviation of demand per day as a simple estimate, calculate for period\n",
    "# This would be more accurate with actual variability data\n",
    "daily_demand_std_dev = np.std(daily_demand)  # Assuming 'daily_demand' array is available from previous calculations\n",
    "std_dev_during_period = daily_demand_std_dev * np.sqrt(total_period_days)\n",
    "\n",
    "# Calculate Safety Stock\n",
    "safety_stock = Z_score * std_dev_during_period\n",
    "\n",
    "# Calculate reorder point\n",
    "reorder_point = demand_during_period + safety_stock\n",
    "\n",
    "# The order quantity depends on the inventory level at the time of review, aiming to bring it up to the reorder point\n",
    "# However, the average order quantity can be estimated as the demand during the period plus safety stock\n",
    "average_order_quantity = demand_during_period + safety_stock\n",
    "\n",
    "print(f\"Average Order Quantity: {average_order_quantity:.2f} boxes\")\n",
    "print(f\"Safety Stock: {safety_stock:.2f} boxes\")"
   ]
  },
  {
   "cell_type": "code",
   "execution_count": 28,
   "metadata": {},
   "outputs": [
    {
     "name": "stdout",
     "output_type": "stream",
     "text": [
      "The optimal order quantity (EOQ) is: 9797.96 units.\n",
      "The adjusted fixed cost per order for 5000 units to be optimal is: $1041.67\n"
     ]
    }
   ],
   "source": [
    "#question 4\n",
    "# Constants and calculations\n",
    "monthly_demand = 20000\n",
    "unit_cost = 100\n",
    "annual_holding_cost_rate = 0.20\n",
    "ordering_cost = 4000\n",
    "\n",
    "# Calculating Annual Demand and Holding Cost\n",
    "annual_demand = monthly_demand * 12\n",
    "holding_cost_per_unit = unit_cost * annual_holding_cost_rate\n",
    "\n",
    "# Calculate EOQ\n",
    "EOQ = math.sqrt((2 * annual_demand * ordering_cost) / holding_cost_per_unit)\n",
    "print(f\"The optimal order quantity (EOQ) is: {EOQ:.2f} units.\")\n",
    "\n",
    "# Desired EOQ and adjusted fixed cost\n",
    "desired_EOQ = 5000\n",
    "new_ordering_cost = (desired_EOQ**2 * holding_cost_per_unit) / (2 * annual_demand)\n",
    "print(f\"The adjusted fixed cost per order for 5000 units to be optimal is: ${new_ordering_cost:.2f}\")"
   ]
  },
  {
   "cell_type": "code",
   "execution_count": 29,
   "metadata": {},
   "outputs": [
    {
     "data": {
      "text/plain": [
       "(0.9, 332.1)"
      ]
     },
     "execution_count": 29,
     "metadata": {},
     "output_type": "execute_result"
    }
   ],
   "source": [
    "#question 5a\n",
    "# Load the demand data for store 1 from the Excel sheet provided\n",
    "demand_data = pd.read_excel(file_path, sheet_name='Q5', usecols=['day', 'demand1'])\n",
    "\n",
    "# Filter the data to only include the first 500 days for store 1\n",
    "demand_store1 = demand_data[demand_data['day'] <= 500]['demand1']\n",
    "\n",
    "# Calculate the cost of underage and overage\n",
    "Cu = 9  # profit per box (selling price - variable cost)\n",
    "Co = 1  # cost per unsold box (variable cost)\n",
    "\n",
    "# Calculate the target service level\n",
    "CSL = Cu / (Cu + Co)\n",
    "\n",
    "# Calculate the optimal inventory level by finding the demand quantile corresponding to the CSL\n",
    "optimal_inventory = demand_store1.quantile(CSL)\n",
    "\n",
    "CSL, optimal_inventory"
   ]
  },
  {
   "cell_type": "code",
   "execution_count": 30,
   "metadata": {},
   "outputs": [
    {
     "data": {
      "text/plain": [
       "(2021.9, 2124.918, 103.01800000000003)"
      ]
     },
     "execution_count": 30,
     "metadata": {},
     "output_type": "execute_result"
    }
   ],
   "source": [
    "#question 5b\n",
    "# Re-load the demand data and focus on days 501-1000 for store 1\n",
    "demand_store1_full = pd.read_excel(file_path, sheet_name='Q5', usecols=['day', 'demand1'])\n",
    "demand_store1_later = demand_store1_full[(demand_store1_full['day'] >= 501) & (demand_store1_full['day'] <= 1000)]['demand1']\n",
    "\n",
    "# Variables\n",
    "selling_price = 10\n",
    "cost = 1\n",
    "profit_per_box = selling_price - cost\n",
    "optimal_inventory_calculated = 332  # From previous calculations\n",
    "\n",
    "# Calculate average profit without oracle (assuming optimal inventory is constant across all days)\n",
    "# If actual demand is less than baked (optimal inventory), then compute loss due to overproduction\n",
    "profits_without_oracle = demand_store1_later.apply(\n",
    "    lambda demand: min(demand, optimal_inventory_calculated) * profit_per_box - max(0, optimal_inventory_calculated - demand) * cost\n",
    ")\n",
    "\n",
    "# Calculate average profit with oracle (exact demand prediction every day)\n",
    "profits_with_oracle = demand_store1_later * profit_per_box\n",
    "\n",
    "# Average profit calculations\n",
    "average_profit_without_oracle = profits_without_oracle.mean()\n",
    "average_profit_with_oracle = profits_with_oracle.mean()\n",
    "\n",
    "# Additional value brought by the oracle on average per day\n",
    "additional_value_oracle = average_profit_with_oracle - average_profit_without_oracle\n",
    "\n",
    "average_profit_without_oracle, average_profit_with_oracle, additional_value_oracle"
   ]
  },
  {
   "cell_type": "code",
   "execution_count": 31,
   "metadata": {},
   "outputs": [
    {
     "data": {
      "text/plain": [
       "1506.88"
      ]
     },
     "execution_count": 31,
     "metadata": {},
     "output_type": "execute_result"
    }
   ],
   "source": [
    "#question 5c\n",
    "demand_data_store2 = pd.read_excel(file_path, sheet_name='Q5', usecols=['day', 'demand2'])\n",
    "\n",
    "# Filter the data to only include the days 501-1000 for Store 2\n",
    "demand_store2_later = demand_data_store2[(demand_data_store2['day'] >= 501) & (demand_data_store2['day'] <= 1000)]['demand2']\n",
    "\n",
    "# Calculate the average profit for Store 2 using the same optimal inventory level determined earlier for Store 1\n",
    "# Adjust if you have a different optimal inventory level for Store 2\n",
    "profits_store2 = demand_store2_later.apply(\n",
    "    lambda demand: min(demand, optimal_inventory_calculated) * profit_per_box - max(0, optimal_inventory_calculated - demand) * cost\n",
    ")\n",
    "\n",
    "# Calculate average profit for Store 2\n",
    "average_profit_store2 = profits_store2.mean()\n",
    "average_profit_store2"
   ]
  },
  {
   "cell_type": "code",
   "execution_count": 32,
   "metadata": {},
   "outputs": [
    {
     "name": "stdout",
     "output_type": "stream",
     "text": [
      "Estimated Daily Profit of Merged Store: 3528.78\n",
      "Daily Average Financial Benefit of Merging: -23.0\n",
      "Should the Shop Owner Integrate the Stores? No\n"
     ]
    }
   ],
   "source": [
    "#question 5c\n",
    "# Assuming you have the profits for days 501-1000 for each store as variables:\n",
    "average_profit_store1 = 2021.9  # Adjust as per your actual data\n",
    "average_profit_store2 = 1506.88  # Adjust as per your actual data\n",
    "\n",
    "# Calculate the combined profit of two separate stores per day\n",
    "combined_profit_separate = average_profit_store1 + average_profit_store2\n",
    "\n",
    "# For the merged store, the profit is the same as the combined profit without any efficiency gain\n",
    "profit_merged_store = combined_profit_separate\n",
    "\n",
    "# Additional daily operational cost of the merged store\n",
    "additional_cost_per_day = 23\n",
    "\n",
    "# Calculate the daily average financial benefit of merging\n",
    "daily_financial_benefit = profit_merged_store - combined_profit_separate - additional_cost_per_day\n",
    "\n",
    "# Determine if merging the stores is financially viable\n",
    "should_integrate = daily_financial_benefit > 0\n",
    "\n",
    "# Print results\n",
    "print(\"Estimated Daily Profit of Merged Store:\", profit_merged_store)\n",
    "print(\"Daily Average Financial Benefit of Merging:\", daily_financial_benefit)\n",
    "print(\"Should the Shop Owner Integrate the Stores?\", \"Yes\" if should_integrate else \"No\")"
   ]
  },
  {
   "cell_type": "code",
   "execution_count": 37,
   "metadata": {},
   "outputs": [
    {
     "name": "stdout",
     "output_type": "stream",
     "text": [
      "Exponential Smoothing Forecast for Day 501: 300.6429246433622\n",
      "Number of Boxes to Bake on Day 501: 301\n"
     ]
    }
   ],
   "source": [
    "#question 5d\n",
    "# Initialize parameters\n",
    "L0 = 200\n",
    "alpha = 0.2\n",
    "\n",
    "# Initialize the forecast for day 1\n",
    "forecast = [L0]\n",
    "\n",
    "# Calculate the forecast for each day up to day 500\n",
    "for t in range(1, 500):\n",
    "    demand_yesterday = demand_data.loc[demand_data['day'] == t, 'demand1'].values[0]\n",
    "    forecast_yesterday = forecast[-1]\n",
    "    forecast_today = alpha * demand_yesterday + (1 - alpha) * forecast_yesterday\n",
    "    forecast.append(forecast_today)\n",
    "\n",
    "# The forecast for day 501\n",
    "forecast_day_501 = forecast[-1]\n",
    "\n",
    "# Output the forecast for day 501\n",
    "print(\"Exponential Smoothing Forecast for Day 501:\", forecast_day_501)\n",
    "\n",
    "# Assuming the forecast is used as the number of boxes to bake on day 501\n",
    "boxes_to_bake_day_501 = round(forecast_day_501)\n",
    "print(\"Number of Boxes to Bake on Day 501:\", boxes_to_bake_day_501)"
   ]
  },
  {
   "cell_type": "code",
   "execution_count": 36,
   "metadata": {},
   "outputs": [
    {
     "name": "stdout",
     "output_type": "stream",
     "text": [
      "Average Daily Profit Using Exponential Smoothing Forecast: 2007.4632771186348\n",
      "Previous Average Daily Profit: 2021.9\n",
      "Value of Exponential Smoothing Forecasting System: -14.436722881365313\n"
     ]
    }
   ],
   "source": [
    "#question 5d\n",
    "demand_data = pd.read_excel(file_path, sheet_name='Q5', usecols=['day', 'demand1'])\n",
    "\n",
    "# Initialize parameters\n",
    "L0 = 200\n",
    "alpha = 0.2\n",
    "selling_price = 10\n",
    "cost = 1\n",
    "profit_per_box = selling_price - cost\n",
    "\n",
    "# Initialize the forecast for day 1\n",
    "forecast = [L0]\n",
    "\n",
    "# Calculate the exponential smoothing forecast for each day up to day 500\n",
    "for t in range(1, 500):\n",
    "    demand_yesterday = demand_data.loc[demand_data['day'] == t, 'demand1'].values[0]\n",
    "    forecast_yesterday = forecast[-1]\n",
    "    forecast_today = alpha * demand_yesterday + (1 - alpha) * forecast_yesterday\n",
    "    forecast.append(forecast_today)\n",
    "\n",
    "# Calculate daily profits for days 501-1000 using exponential smoothing forecast\n",
    "profits_exp_smoothing = []\n",
    "for t in range(500, 1000):\n",
    "    forecast_today = forecast[-1]\n",
    "    demand_today = demand_data.loc[demand_data['day'] == t + 1, 'demand1'].values[0]\n",
    "    profit_today = min(demand_today, forecast_today) * profit_per_box - max(0, forecast_today - demand_today) * cost\n",
    "    profits_exp_smoothing.append(profit_today)\n",
    "    forecast_today = alpha * demand_today + (1 - alpha) * forecast_today\n",
    "    forecast.append(forecast_today)\n",
    "\n",
    "# Calculate average daily profit using exponential smoothing forecast\n",
    "average_profit_exp_smoothing = sum(profits_exp_smoothing) / len(profits_exp_smoothing)\n",
    "\n",
    "# Compare with the previously given average daily profit\n",
    "previous_average_profit = 2021.9\n",
    "\n",
    "# Calculate the value of the exponential smoothing forecasting system\n",
    "value_exp_smoothing = average_profit_exp_smoothing - previous_average_profit\n",
    "\n",
    "# Print results\n",
    "print(\"Average Daily Profit Using Exponential Smoothing Forecast:\", average_profit_exp_smoothing)\n",
    "print(\"Previous Average Daily Profit:\", previous_average_profit)\n",
    "print(\"Value of Exponential Smoothing Forecasting System:\", value_exp_smoothing)"
   ]
  },
  {
   "cell_type": "code",
   "execution_count": 38,
   "metadata": {},
   "outputs": [
    {
     "name": "stdout",
     "output_type": "stream",
     "text": [
      "Average Daily Profit for Store 1: 2007.4632771186348\n",
      "Average Daily Profit for Store 2: 1533.6161939994872\n",
      "Combined Average Daily Profit for Separate Stores: 3541.079471118122\n",
      "Average Daily Profit for Merged Store: 3623.1621162990864\n",
      "Daily Average Financial Benefit of Merging: 59.08264518096439\n",
      "Should the Shop Owner Integrate the Stores? Yes\n"
     ]
    }
   ],
   "source": [
    "#question 5e\n",
    "demand_data = pd.read_excel(file_path, sheet_name='Q5', usecols=['day', 'demand1', 'demand2'])\n",
    "\n",
    "# Initialize parameters\n",
    "L0 = 200\n",
    "alpha = 0.2\n",
    "selling_price = 10\n",
    "cost = 1\n",
    "profit_per_box = selling_price - cost\n",
    "\n",
    "# Initialize the forecast for day 1 for both stores\n",
    "forecast_store1 = [L0]\n",
    "forecast_store2 = [L0]\n",
    "\n",
    "# Calculate the exponential smoothing forecast for each day up to day 500 for both stores\n",
    "for t in range(1, 500):\n",
    "    demand_yesterday_store1 = demand_data.loc[demand_data['day'] == t, 'demand1'].values[0]\n",
    "    forecast_yesterday_store1 = forecast_store1[-1]\n",
    "    forecast_today_store1 = alpha * demand_yesterday_store1 + (1 - alpha) * forecast_yesterday_store1\n",
    "    forecast_store1.append(forecast_today_store1)\n",
    "    \n",
    "    demand_yesterday_store2 = demand_data.loc[demand_data['day'] == t, 'demand2'].values[0]\n",
    "    forecast_yesterday_store2 = forecast_store2[-1]\n",
    "    forecast_today_store2 = alpha * demand_yesterday_store2 + (1 - alpha) * forecast_yesterday_store2\n",
    "    forecast_store2.append(forecast_today_store2)\n",
    "\n",
    "# Calculate daily profits for days 501-1000 using exponential smoothing forecast for both stores separately\n",
    "profits_store1 = []\n",
    "profits_store2 = []\n",
    "for t in range(500, 1000):\n",
    "    forecast_today_store1 = forecast_store1[-1]\n",
    "    demand_today_store1 = demand_data.loc[demand_data['day'] == t + 1, 'demand1'].values[0]\n",
    "    profit_today_store1 = min(demand_today_store1, forecast_today_store1) * profit_per_box - max(0, forecast_today_store1 - demand_today_store1) * cost\n",
    "    profits_store1.append(profit_today_store1)\n",
    "    forecast_today_store1 = alpha * demand_today_store1 + (1 - alpha) * forecast_today_store1\n",
    "    forecast_store1.append(forecast_today_store1)\n",
    "    \n",
    "    forecast_today_store2 = forecast_store2[-1]\n",
    "    demand_today_store2 = demand_data.loc[demand_data['day'] == t + 1, 'demand2'].values[0]\n",
    "    profit_today_store2 = min(demand_today_store2, forecast_today_store2) * profit_per_box - max(0, forecast_today_store2 - demand_today_store2) * cost\n",
    "    profits_store2.append(profit_today_store2)\n",
    "    forecast_today_store2 = alpha * demand_today_store2 + (1 - alpha) * forecast_today_store2\n",
    "    forecast_store2.append(forecast_today_store2)\n",
    "\n",
    "# Calculate average daily profits for both stores separately\n",
    "average_profit_store1 = sum(profits_store1) / len(profits_store1)\n",
    "average_profit_store2 = sum(profits_store2) / len(profits_store2)\n",
    "combined_profit_separate = average_profit_store1 + average_profit_store2\n",
    "\n",
    "# Calculate the merged store's forecast and profit\n",
    "forecast_merged_store = [L0]\n",
    "profits_merged_store = []\n",
    "for t in range(1, 500):\n",
    "    demand_yesterday_store1 = demand_data.loc[demand_data['day'] == t, 'demand1'].values[0]\n",
    "    demand_yesterday_store2 = demand_data.loc[demand_data['day'] == t, 'demand2'].values[0]\n",
    "    demand_yesterday_merged = demand_yesterday_store1 + demand_yesterday_store2\n",
    "    forecast_yesterday_merged = forecast_merged_store[-1]\n",
    "    forecast_today_merged = alpha * demand_yesterday_merged + (1 - alpha) * forecast_yesterday_merged\n",
    "    forecast_merged_store.append(forecast_today_merged)\n",
    "\n",
    "for t in range(500, 1000):\n",
    "    forecast_today_merged = forecast_merged_store[-1]\n",
    "    demand_today_store1 = demand_data.loc[demand_data['day'] == t + 1, 'demand1'].values[0]\n",
    "    demand_today_store2 = demand_data.loc[demand_data['day'] == t + 1, 'demand2'].values[0]\n",
    "    demand_today_merged = demand_today_store1 + demand_today_store2\n",
    "    profit_today_merged = min(demand_today_merged, forecast_today_merged) * profit_per_box - max(0, forecast_today_merged - demand_today_merged) * cost\n",
    "    profits_merged_store.append(profit_today_merged)\n",
    "    forecast_today_merged = alpha * demand_today_merged + (1 - alpha) * forecast_today_merged\n",
    "    forecast_merged_store.append(forecast_today_merged)\n",
    "\n",
    "# Calculate average daily profit for the merged store\n",
    "average_profit_merged_store = sum(profits_merged_store) / len(profits_merged_store)\n",
    "\n",
    "# Calculate the daily average financial benefit of merging\n",
    "daily_financial_benefit = average_profit_merged_store - combined_profit_separate - 23\n",
    "\n",
    "# Determine if merging the stores is financially viable\n",
    "should_integrate = daily_financial_benefit > 0\n",
    "\n",
    "# Print results\n",
    "print(\"Average Daily Profit for Store 1:\", average_profit_store1)\n",
    "print(\"Average Daily Profit for Store 2:\", average_profit_store2)\n",
    "print(\"Combined Average Daily Profit for Separate Stores:\", combined_profit_separate)\n",
    "print(\"Average Daily Profit for Merged Store:\", average_profit_merged_store)\n",
    "print(\"Daily Average Financial Benefit of Merging:\", daily_financial_benefit)\n",
    "print(\"Should the Shop Owner Integrate the Stores?\", \"Yes\" if should_integrate else \"No\")"
   ]
  }
 ],
 "metadata": {
  "kernelspec": {
   "display_name": "base",
   "language": "python",
   "name": "python3"
  },
  "language_info": {
   "codemirror_mode": {
    "name": "ipython",
    "version": 3
   },
   "file_extension": ".py",
   "mimetype": "text/x-python",
   "name": "python",
   "nbconvert_exporter": "python",
   "pygments_lexer": "ipython3",
   "version": "3.11.7"
  }
 },
 "nbformat": 4,
 "nbformat_minor": 2
}
