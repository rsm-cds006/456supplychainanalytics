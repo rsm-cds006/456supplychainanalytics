{
 "cells": [
  {
   "cell_type": "markdown",
   "metadata": {},
   "source": [
    "## HomeworkQuestions:\n",
    "\n",
    "### Part I    Current Status Evaluation \n",
    "1. For each category (Office Supplies, Contingent Labor, Legal Services), create a bar chart \n",
    "with respect to the total spend by each supplier. What do you observe? \n",
    "2. For each category (Office Supplies, Contingent Labor, Legal Services), create a strategic \n",
    "matrix plot using geographic coverage against total spend and populate data of the suppliers. \n",
    "What do you find from each plot? \n",
    "3. Other than geographic coverage, what are the other metrics you would take into \n",
    "consideration in terms of supplier rationalization? Calculate the weighted average score for \n",
    "criticality and quality. For each of these metrics, create a strategic matrix plots against total \n",
    "spend by populating the data. What can you tell from the plots? Create a strategic matrix \n",
    "plot populating criticality against quality for each category. What insights do the plots \n",
    "provide? \n",
    "\n",
    "### Part II    Strategy Recommendation and Justification \n",
    "4. How do different characteristics of the three categories (Office Supplies, Contingent Labor, \n",
    "and Legal Services) influence your viewpoint on supplier rationalization? Compare the \n",
    "categories and discuss the differences. \n",
    "5. What is the number of suppliers you recommend for each category (1, 2 to 10, or more than \n",
    "10)? Justify your answer by computing the savings opportunity and/or evaluating the key \n",
    "metrics you use and the pros and cons of your recommendation."
   ]
  },
  {
   "cell_type": "markdown",
   "metadata": {},
   "source": [
    "## notes:\n",
    "\n",
    "Talat built a new global indirect procurement team of 21 global and regional sourcing \n",
    "specialists (Exhibit 1). Within the team, the U.S. segment was further subdivided and specialized \n",
    "to perform more detailed analyses on multiple categories of spend. \n",
    "\n",
    "In 2019, Koe-Meyer spent $1 billion on the indirect procurement including HR, IT, Professional \n",
    "Services, Travel, Operations and Marketing. This expenditure was segmented by the company’s \n",
    "business regions (Exhibit 2). The total annual spend in the U.S. accounted for 85% in the \n",
    "Americas, which was about $493 million (Exhibit 3). There were over 10,000 suppliers—a \n",
    "monumental task—on Talat’s table to rationalize. Even though there was a focus on suppliers \n",
    "with strategic relationships, there existed a long tail of suppliers with relatively small scale and \n",
    "local presence. The CPO and her team decided to kick off a strategic sourcing initiative to reduce \n",
    "the number of suppliers and deliver savings to Koe-Meyer. They created a strategic matrix based \n",
    "on the company’s spend by supplier and the supplier’s geographic coverage of business. They \n",
    "also prioritized the initial focus on three categories, Office Supplies, Contingent Labor, and \n",
    "Legal Services, including 248 suppliers and accounting for $71 million of total third-party spend. \n",
    "Each of these 248 suppliers was segmented by category and related spend, and scored based on \n",
    "its geographic coverage from local to nationwide on a scale of 1 to 10 (Exhibit 4.1, 4.2, 4.3). \n",
    "                                                                                                                                          4 \n",
    "After plotting out the strategic matrix and populating supplier data, the suppliers could be further \n",
    "subdivided into (i) strategic partnerships—suppliers who should be properly maintained and \n",
    "strengthened, (ii) local—suppliers who might play an important part locally, (iii) value-added—\n",
    "suppliers who had a potential to grow further, and (iv) cut-the-tail—suppliers who might be \n",
    "terminated and whose spend might be redistributed (Exhibit 5). \n",
    "\n",
    "The team also performed analyses on the criticality and the quality of each supplier. Criticality \n",
    "stands for the level of business impact each supplier had on the company, consisting of Available \n",
    "Capacity, Switching Costs, Substitution Options, Savings Opportunity, and Integrated Solution. \n",
    "Quality measures the degree of performance excellence and unique attributes possessed by each \n",
    "supplier, including Leadership, Innovation, Technology, Compliance, and Customer Services \n",
    "(Exhibit 6). Each attribute for criticality and quality was scored from 1 to 10 and assigned \n",
    "percentage weight of importance in Exhibit 7.1, 7.2, 7.3 and Exhibit 8.1, 8.2, 8.3.  \n",
    "\n",
    "These questions forced them to think through the comparison between single source strategy and multiple supplier strategy. \n",
    "\n",
    "Single source strategy, relying on one supplier for all of the demand in the category, brings the \n",
    "benefits of procurement synergy. Bulk purchasing and volume bundling create economies of \n",
    "scale, increasing the company’s buying power, gaining deeper discounts and attaining lower unit \n",
    "costs. It also unifies the administrative processes and streamlines the procedures, making it easier \n",
    "to maintain or strengthen the supplier relationship. However, the dependency can introduce high \n",
    "risk in the case of sudden shortage or other emergencies with the supplier. \n",
    "On the other hand, multiple supplier strategy mitigates this kind of risk by allocating \n",
    "procurement focus onto multiple suppliers. Some suppliers, albeit small and local, provide \n",
    "critical products or services and cannot be replaced by other suppliers. This strategy makes \n",
    "demand fluctuations and supply disruptions more manageable. Additionally, while there is \n",
    "relatively low buying power to be leveraged, there may be some chance to take advantage of the \n",
    "competition among the suppliers. Yet, it requires more overhead and management time and can \n",
    "reduce the overall responsiveness and information sharing. \n",
    "\n",
    "Talat listed out three sourcing strategy options for each indirect procurement category: (i) \n",
    "centralizing all demand to one single supplier, (ii) relying on a small group of suppliers ranging from 2 to 10, \n",
    "and (iii) sourcing from a large group of suppliers greater than 10. To select the right \n",
    "sourcing strategy for each category, the team had to plot the position of each supplier onto the \n",
    "strategic matrix, understand the importance of each supplier based on its criticality and quality, \n",
    "and identify the possible supplier candidates to choose and compare. Their decision-making also \n",
    "had to be backed up by the possible financial impact. In the end, the CPO would have to decide \n",
    "the optimal strategy for each category and report to the C-Suite and other executives. "
   ]
  },
  {
   "cell_type": "code",
   "execution_count": null,
   "metadata": {
    "vscode": {
     "languageId": "plaintext"
    }
   },
   "outputs": [],
   "source": []
  }
 ],
 "metadata": {
  "language_info": {
   "name": "python"
  }
 },
 "nbformat": 4,
 "nbformat_minor": 2
}
