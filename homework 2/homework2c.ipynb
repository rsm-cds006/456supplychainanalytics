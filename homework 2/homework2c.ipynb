{
 "cells": [
  {
   "cell_type": "markdown",
   "metadata": {},
   "source": [
    "## Homework 2c Instructions:\n",
    "\n",
    "Download the data file here.\n",
    "\n",
    "Rogers_022824.csvDownload Rogers_022824.csv\n",
    "\n",
    "This is a transaction level data at the Rogers market with Amazon Just Walk Out technology at Feb. 28, 2024. \n",
    "\n",
    "Key columns that will be used in this homework:\n",
    "\n",
    "Purchase_datetime: It is a purchase time. Consider it as an exit time from the store\n",
    "\n",
    "Transaction_id: It is a group(person) & item identifier.\n",
    "\n",
    "Session_id: It is a group/person identifier, i.e., the first three transactions are three items that *ONE* person bought. Notice that those three transactions have the same purchase_datetime.\n",
    "\n",
    "Trip_duration_mins: It is how long a customer/a group of customers spend within the store. So, purchase_datetime - trip_duration_mins = an entry time to the store.\n",
    "\n",
    "Group_size: how many customers came into the store as a group. One customer in that group will pay all together.\n",
    "\n",
    " \n",
    "\n",
    "1- From 7AM-11:00PM, draw an inventory build-up diagram. For example, draw how many customers are present in the store at every minute. Calculate the average inventory level, i.e., on average how many customers were in the store. The file contains some extra data after 11PM. Please ignore those data points after 11PM.\n",
    "\n",
    "2- Plot how many customers entered the store in every 15 minutes from 7AM-11:00PM, e.g., customer arrivals at 7-7:15AM, then customer arrivals at 7:15-7:30AM, etc. Then, calculate how many customers entered the store per hour on average.\n",
    "\n",
    "3- Take the average of trip_duration_mins, considering the group size. Use your answers from 1 and 2, and apply the Little's Law to calculate the average flow time. Confirm that the average flow time that you calculate using the Little's Law is consistent with the average trip_duration_mins."
   ]
  }
 ],
 "metadata": {
  "language_info": {
   "name": "python"
  }
 },
 "nbformat": 4,
 "nbformat_minor": 2
}
