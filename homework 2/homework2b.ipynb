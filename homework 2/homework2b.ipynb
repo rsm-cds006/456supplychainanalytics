{
 "cells": [
  {
   "cell_type": "markdown",
   "metadata": {},
   "source": [
    "## Homework 2b instructions:\n",
    "\n",
    "Look at 2023 annual reports of Wal-Mart Download Wal-Martand Costco Download Costco. The files are linked. Calculate and compare the cash-to-cash cycle/time for both companies. Submit a one-page report. "
   ]
  }
 ],
 "metadata": {
  "language_info": {
   "name": "python"
  }
 },
 "nbformat": 4,
 "nbformat_minor": 2
}
