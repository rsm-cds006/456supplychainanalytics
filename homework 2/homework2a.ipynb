{
 "cells": [
  {
   "cell_type": "markdown",
   "metadata": {},
   "source": [
    "## Homework 2a instructions:\n",
    "\n",
    "Download the data that we used in class here Download here. It is the weekly demand for the eggs that we used in class.  As we discussed in class, the price is $4, the unit cost is $0.80, and the salvage value is $0. You will use the Holt’s model to forecast.\n",
    "\n",
    "1. Use the data from Week1 to Week300 to estimate the slope “a” in time (t) and the intercept “b” from the linear regression model.\n",
    "\n",
    " \n",
    "\n",
    "2. Use L0=b and T0=a from the above linear regression. Use alpha=0.2 and beta=0.2. Estimate the forecast from Week1 to Week 500.\n",
    "\n",
    " \n",
    "\n",
    "3. What is the stocking quantity at Week301?\n",
    "\n",
    " \n",
    "\n",
    "4. What is the weekly average profit from Week301 to Week500? Do you see an improvement over simple Exponential Smoothing?\n",
    "\n",
    " \n",
    "\n",
    "5. Use the data from Week1 to Week300 to find an “optimal” alpha and beta values.\n",
    "\n",
    " \n",
    "\n",
    "6. Use alpha and beta values from Question 5, and repeat Question 4.\n",
    "\n",
    " \n",
    "\n",
    "Submit your code and the report (max 2 pages without appendix)."
   ]
  }
 ],
 "metadata": {
  "language_info": {
   "name": "python"
  }
 },
 "nbformat": 4,
 "nbformat_minor": 2
}
